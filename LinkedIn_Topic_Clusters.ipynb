{
 "cells": [
  {
   "cell_type": "markdown",
   "metadata": {},
   "source": [
    "# Trabajo Final NLP - Clusters"
   ]
  },
  {
   "cell_type": "code",
   "execution_count": 13,
   "metadata": {},
   "outputs": [],
   "source": [
    "library(fastDummies)\n",
    "library(clustMixType)\n",
    "library(combinat)\n",
    "library(readr)\n",
    "library(Rtsne)\n",
    "library(Hmisc)\n",
    "library(MASS)\n",
    "library(mclust)\n",
    "library(repr)\n",
    "library(cluster)\n",
    "library(circlize)\n",
    "library(dendextend)\n",
    "library(ggplot2)\n",
    "library(FactoMineR)\n",
    "library(factoextra)\n",
    "library(fpc)\n",
    "library(NbClust)\n",
    "library(dplyr)\n",
    "library(dclust)\n",
    "library(ggdendro)\n",
    "library(rgl)\n",
    "library(ggpubr)\n",
    "library(gridExtra)"
   ]
  },
  {
   "cell_type": "markdown",
   "metadata": {},
   "source": [
    "### 1. Cargamos el dataset y transformamos algunas variables"
   ]
  },
  {
   "cell_type": "code",
   "execution_count": 14,
   "metadata": {},
   "outputs": [
    {
     "data": {
      "text/html": [
       "<table>\n",
       "<caption>A data.frame: 6 × 9</caption>\n",
       "<thead>\n",
       "\t<tr><th></th><th scope=col>Article_Type_C</th><th scope=col>hashtag_q_C</th><th scope=col>company_q_C</th><th scope=col>person_q_C</th><th scope=col>dominant_topic_C</th><th scope=col>topic_proba_C</th><th scope=col>text_len_C</th><th scope=col>Comment_Ratio_C</th><th scope=col>Reaction_Ratio_C</th></tr>\n",
       "\t<tr><th></th><th scope=col>&lt;fct&gt;</th><th scope=col>&lt;dbl&gt;</th><th scope=col>&lt;dbl&gt;</th><th scope=col>&lt;dbl&gt;</th><th scope=col>&lt;fct&gt;</th><th scope=col>&lt;dbl&gt;</th><th scope=col>&lt;dbl&gt;</th><th scope=col>&lt;dbl&gt;</th><th scope=col>&lt;dbl&gt;</th></tr>\n",
       "</thead>\n",
       "<tbody>\n",
       "\t<tr><th scope=row>1</th><td>0001</td><td>0.000000</td><td>0.0000000</td><td>0.0000000</td><td>responsabilidad social</td><td>0.6365768</td><td>5.493061</td><td>2.354400</td><td>0.4747774</td></tr>\n",
       "\t<tr><th scope=row>2</th><td>0001</td><td>0.000000</td><td>0.0000000</td><td>0.6931472</td><td>tendencias            </td><td>0.3852624</td><td>4.595120</td><td>3.244129</td><td>0.5155435</td></tr>\n",
       "\t<tr><th scope=row>3</th><td>0001</td><td>0.000000</td><td>1.0986123</td><td>0.0000000</td><td>responsabilidad social</td><td>0.3852624</td><td>5.123964</td><td>3.666818</td><td>0.5545042</td></tr>\n",
       "\t<tr><th scope=row>4</th><td>1001</td><td>0.000000</td><td>1.0986123</td><td>0.0000000</td><td>responsabilidad social</td><td>0.3852624</td><td>5.123964</td><td>3.758096</td><td>0.5465105</td></tr>\n",
       "\t<tr><th scope=row>5</th><td>1000</td><td>1.609438</td><td>0.6931472</td><td>0.6931472</td><td>negocios              </td><td>0.4121097</td><td>5.993961</td><td>3.758096</td><td>0.5465105</td></tr>\n",
       "\t<tr><th scope=row>6</th><td>1000</td><td>0.000000</td><td>0.0000000</td><td>1.0986123</td><td>responsabilidad social</td><td>0.3576744</td><td>6.135565</td><td>3.643875</td><td>0.5440576</td></tr>\n",
       "</tbody>\n",
       "</table>\n"
      ],
      "text/latex": [
       "A data.frame: 6 × 9\n",
       "\\begin{tabular}{r|lllllllll}\n",
       "  & Article\\_Type\\_C & hashtag\\_q\\_C & company\\_q\\_C & person\\_q\\_C & dominant\\_topic\\_C & topic\\_proba\\_C & text\\_len\\_C & Comment\\_Ratio\\_C & Reaction\\_Ratio\\_C\\\\\n",
       "  & <fct> & <dbl> & <dbl> & <dbl> & <fct> & <dbl> & <dbl> & <dbl> & <dbl>\\\\\n",
       "\\hline\n",
       "\t1 & 0001 & 0.000000 & 0.0000000 & 0.0000000 & responsabilidad social & 0.6365768 & 5.493061 & 2.354400 & 0.4747774\\\\\n",
       "\t2 & 0001 & 0.000000 & 0.0000000 & 0.6931472 & tendencias             & 0.3852624 & 4.595120 & 3.244129 & 0.5155435\\\\\n",
       "\t3 & 0001 & 0.000000 & 1.0986123 & 0.0000000 & responsabilidad social & 0.3852624 & 5.123964 & 3.666818 & 0.5545042\\\\\n",
       "\t4 & 1001 & 0.000000 & 1.0986123 & 0.0000000 & responsabilidad social & 0.3852624 & 5.123964 & 3.758096 & 0.5465105\\\\\n",
       "\t5 & 1000 & 1.609438 & 0.6931472 & 0.6931472 & negocios               & 0.4121097 & 5.993961 & 3.758096 & 0.5465105\\\\\n",
       "\t6 & 1000 & 0.000000 & 0.0000000 & 1.0986123 & responsabilidad social & 0.3576744 & 6.135565 & 3.643875 & 0.5440576\\\\\n",
       "\\end{tabular}\n"
      ],
      "text/markdown": [
       "\n",
       "A data.frame: 6 × 9\n",
       "\n",
       "| <!--/--> | Article_Type_C &lt;fct&gt; | hashtag_q_C &lt;dbl&gt; | company_q_C &lt;dbl&gt; | person_q_C &lt;dbl&gt; | dominant_topic_C &lt;fct&gt; | topic_proba_C &lt;dbl&gt; | text_len_C &lt;dbl&gt; | Comment_Ratio_C &lt;dbl&gt; | Reaction_Ratio_C &lt;dbl&gt; |\n",
       "|---|---|---|---|---|---|---|---|---|---|\n",
       "| 1 | 0001 | 0.000000 | 0.0000000 | 0.0000000 | responsabilidad social | 0.6365768 | 5.493061 | 2.354400 | 0.4747774 |\n",
       "| 2 | 0001 | 0.000000 | 0.0000000 | 0.6931472 | tendencias             | 0.3852624 | 4.595120 | 3.244129 | 0.5155435 |\n",
       "| 3 | 0001 | 0.000000 | 1.0986123 | 0.0000000 | responsabilidad social | 0.3852624 | 5.123964 | 3.666818 | 0.5545042 |\n",
       "| 4 | 1001 | 0.000000 | 1.0986123 | 0.0000000 | responsabilidad social | 0.3852624 | 5.123964 | 3.758096 | 0.5465105 |\n",
       "| 5 | 1000 | 1.609438 | 0.6931472 | 0.6931472 | negocios               | 0.4121097 | 5.993961 | 3.758096 | 0.5465105 |\n",
       "| 6 | 1000 | 0.000000 | 0.0000000 | 1.0986123 | responsabilidad social | 0.3576744 | 6.135565 | 3.643875 | 0.5440576 |\n",
       "\n"
      ],
      "text/plain": [
       "  Article_Type_C hashtag_q_C company_q_C person_q_C dominant_topic_C      \n",
       "1 0001           0.000000    0.0000000   0.0000000  responsabilidad social\n",
       "2 0001           0.000000    0.0000000   0.6931472  tendencias            \n",
       "3 0001           0.000000    1.0986123   0.0000000  responsabilidad social\n",
       "4 1001           0.000000    1.0986123   0.0000000  responsabilidad social\n",
       "5 1000           1.609438    0.6931472   0.6931472  negocios              \n",
       "6 1000           0.000000    0.0000000   1.0986123  responsabilidad social\n",
       "  topic_proba_C text_len_C Comment_Ratio_C Reaction_Ratio_C\n",
       "1 0.6365768     5.493061   2.354400        0.4747774       \n",
       "2 0.3852624     4.595120   3.244129        0.5155435       \n",
       "3 0.3852624     5.123964   3.666818        0.5545042       \n",
       "4 0.3852624     5.123964   3.758096        0.5465105       \n",
       "5 0.4121097     5.993961   3.758096        0.5465105       \n",
       "6 0.3576744     6.135565   3.643875        0.5440576       "
      ]
     },
     "metadata": {},
     "output_type": "display_data"
    }
   ],
   "source": [
    "# Cargamos el dataset original\n",
    "df <- read.csv('dataset3.csv')\n",
    "# Colapsamos todas las variables relacionadas al tipo de contenido empleado en cada post\n",
    "cols_2_collapse = c('Image','LinkedIn_Video','External_Video','Article')\n",
    "df$Article_Type = apply(df[,cols_2_collapse], 1, function(x) paste(x, collapse = \"\"))\n",
    "# Creamos dos variables que representan el ratio de comments y reactions de un post sobre el número de followers: a la variable comments la pesamos como 100 veces\n",
    "# -más relevante que la variable reaction. Esto nos permite tener una comparación de ambas variables aproximadamente en la misma medida.\n",
    "df$Comment_Ratio = (log1p(df$Comment)*100/(df$Followers/1000))*100\n",
    "df$Reaction_Ratio = (log1p(df$Reaction)/(df$Followers/1000))*100\n",
    "\n",
    "# Creamos una copia de las variables que utilizaremos para el modelo que serán propiamente escaladas y convertidas en factor, según corresponda\n",
    "tot_cols = c('Article_Type','hashtag_q','company_q','person_q','dominant_topic','topic_proba','text_len','Comment_Ratio','Reaction_Ratio')\n",
    "clust_cols = c('Article_Type_C','hashtag_q_C','company_q_C','person_q_C','dominant_topic_C',\n",
    "               'topic_proba_C','text_len_C','Comment_Ratio_C','Reaction_Ratio_C')\n",
    "\n",
    "df[,clust_cols] = df[,tot_cols]\n",
    "\n",
    "cat_cols = c('Article_Type_C','dominant_topic_C')\n",
    "for (i in colnames(df[,cat_cols])){\n",
    "    df[,i] = factor(df[,i])\n",
    "}\n",
    "num_cols = c('hashtag_q_C','company_q_C','person_q_C','Comment_Ratio_C','Reaction_Ratio_C','topic_proba_C','text_len_C')\n",
    "for (i in colnames(df[,num_cols])){\n",
    "    df[,i] = log1p(df[,i])#[,1] # Antes de ser escaladas tomamos el log1p de cada variable numérica, puesto que son bastante asimetricas\n",
    "}\n",
    "# Visualizamos nuestro dataframe\n",
    "head(df[,clust_cols])"
   ]
  },
  {
   "cell_type": "markdown",
   "metadata": {},
   "source": [
    "### 2. Modelo de clusters: validación interna y selección del modelo"
   ]
  },
  {
   "cell_type": "markdown",
   "metadata": {},
   "source": [
    "2.1. Corremos el modelo para distintos valores de K y obtenemos las métricas de validación interna: 3 métodos, elbow, silhouette y within-between"
   ]
  },
  {
   "cell_type": "code",
   "execution_count": 15,
   "metadata": {},
   "outputs": [],
   "source": [
    "gower.dist = daisy(df[,clust_cols], metric = c(\"gower\"),weights = c(0.7,0.7,0.7,0.7,0,0,0.7,1,1))\n",
    "n = 10\n",
    "index = list()\n",
    "elbow_scores = list()\n",
    "avg_sil_scores = list()\n",
    "wb_score = list()\n",
    "\n",
    "for(i in 2:n){\n",
    "    clusters = pam(gower.dist, k=i, metric = \"mahalanobis\")\n",
    "    wss = cluster.stats(gower.dist,clustering = clusters$cluster, wgap = TRUE)$within.cluster.ss\n",
    "    avg_sil = cluster.stats(gower.dist,clustering = clusters$cluster,silhouette = TRUE)$avg.silwidth\n",
    "    wb = cluster.stats(gower.dist,clustering = clusters$cluster)$wb.ratio\n",
    "    index[i-1] = i\n",
    "    elbow_scores[i-1] <- wss\n",
    "    avg_sil_scores[i-1] <- avg_sil\n",
    "    wb_score[i-1] <- wb\n",
    "}\n",
    "df_scores = as.data.frame(cbind(index,elbow_scores,avg_sil_scores,wb_score))"
   ]
  },
  {
   "cell_type": "markdown",
   "metadata": {},
   "source": [
    "2.2. Ploteamos los resultados de las métricas para los 3 métodos de validación anteriores "
   ]
  },
  {
   "cell_type": "code",
   "execution_count": 16,
   "metadata": {},
   "outputs": [
    {
     "data": {
      "image/png": "[encoded data removed]",
      "text/plain": [
       "Plot with title \"Scores - Average\""
      ]
     },
     "metadata": {
      "image/png": {
       "height": 360,
       "width": 720
      }
     },
     "output_type": "display_data"
    }
   ],
   "source": [
    "options(repr.plot.width=12, repr.plot.height=6)\n",
    "par(mfrow=c(1,2))\n",
    "plot(df_scores$index,df_scores$elbow_scores,type='b',\n",
    "     col='black',lwd=3,main='Scores - Average',\n",
    "     ylab='score',\n",
    "     xlab=NULL)\n",
    "abline(v=8,lty=2, lwd=3, col = 'red')\n",
    "legend(\"topright\", legend=c('Elbow method'),\n",
    "       col=c('black'),lwd=4, lty=2:2:2, cex=0.75,bty = \"o\",pch=21)\n",
    "\n",
    "plot(df_scores$index,df_scores$avg_sil_scores,type='b',\n",
    "     col='steelblue',lwd=3,main=NULL,\n",
    "     ylab='score',\n",
    "     xlab='number of clusters k',ylim=c(0.1,0.9))\n",
    "lines(df_scores$index,df_scores$wb_score,type='b',lwd=3,col='darkgreen')\n",
    "abline(v=8,lty=2, lwd=3, col = 'red')\n",
    "legend(\"topright\", legend=c('Avg Silhouette','WB ratio'),\n",
    "       col=c(\"steelblue\",\"darkgreen\"),lwd=4, lty=2:2:2, cex=0.75,bty = \".\",pch=1)"
   ]
  },
  {
   "cell_type": "markdown",
   "metadata": {},
   "source": [
    "2.3. De los resultados anteriores se desprende que el número óptimo de clusters es k=8"
   ]
  },
  {
   "cell_type": "code",
   "execution_count": 17,
   "metadata": {},
   "outputs": [],
   "source": [
    "modelo = pam(gower.dist, k=8, metric = \"mahalanobis\")"
   ]
  },
  {
   "cell_type": "markdown",
   "metadata": {},
   "source": [
    "2.4. Ploteamos los silhoueetes e identificamos las observaciones con valores de silhouette negativos"
   ]
  },
  {
   "cell_type": "code",
   "execution_count": 18,
   "metadata": {},
   "outputs": [
    {
     "name": "stdout",
     "output_type": "stream",
     "text": [
      "[1] \"Silhoutte negativos para 4 clusters: 479 respectivamente\"\n"
     ]
    },
    {
     "data": {
      "image/png": "[encoded data removed]",
      "text/plain": [
       "plot without title"
      ]
     },
     "metadata": {
      "image/png": {
       "height": 360,
       "width": 720
      }
     },
     "output_type": "display_data"
    }
   ],
   "source": [
    "# Identify observation with negative silhouette\n",
    "sil = silhouette(modelo$cluster, gower.dist)\n",
    "neg_sil_index <- which(sil[, \"sil_width\"] < 0)\n",
    "neg_sil = nrow(sil[neg_sil_index, , drop = FALSE])\n",
    "clusters = sil[,1]\n",
    "print(paste0('Silhoutte negativos para 4 clusters: ',neg_sil,' respectivamente'))\n",
    "p = fviz_silhouette(sil, print.summary = FALSE)\n",
    "p$layers[[2]]$aes_params$colour <- \"black\"\n",
    "\n",
    "p"
   ]
  },
  {
   "cell_type": "markdown",
   "metadata": {},
   "source": [
    "2.5. Creamos una función para reasignar las observaciones con silhouttes negativos y reasignamos cada una de ellas a sus clusters vecinos"
   ]
  },
  {
   "cell_type": "code",
   "execution_count": 19,
   "metadata": {},
   "outputs": [],
   "source": [
    "# Creamos una función para reasignar etiquetas a las observaciones con Silhouette negativo\n",
    "cluster_adjusted = function(clusters,tol){\n",
    "    sil <- silhouette(clusters$cluster, gower.dist)\n",
    "    neg_sil_index <- which(sil[, \"sil_width\"] < 0)\n",
    "    \n",
    "    while(length(neg_sil_index)>tol){\n",
    "        #if(k<500){\n",
    "            clusters$cluster[neg_sil_index] = sil[neg_sil_index,2]\n",
    "            sil <- silhouette(clusters$cluster, gower.dist)\n",
    "            neg_sil_index <- which(sil[, \"sil_width\"] < 0)\n",
    "            \n",
    "        #}else{break}\n",
    "    }\n",
    "    return(sil)\n",
    "}"
   ]
  },
  {
   "cell_type": "markdown",
   "metadata": {},
   "source": [
    "2.6. Ejecutamos la función y obtenemos la nueva asignación ya corregida"
   ]
  },
  {
   "cell_type": "code",
   "execution_count": 20,
   "metadata": {},
   "outputs": [
    {
     "data": {
      "image/png": "[encoded data removed]",
      "text/plain": [
       "plot without title"
      ]
     },
     "metadata": {
      "image/png": {
       "height": 300,
       "width": 1200
      }
     },
     "output_type": "display_data"
    }
   ],
   "source": [
    "# Ploteamos los silhouettes de los 3 modelos de cluster: para valores grandes de k da valores más altos de avg silhouette\n",
    "options(repr.plot.width=20, repr.plot.height=5)\n",
    "sil = cluster_adjusted(modelo,0)\n",
    "clusters = sil[,1]\n",
    "p = fviz_silhouette(sil, print.summary = FALSE)\n",
    "p$layers[[2]]$aes_params$colour <- \"black\"\n",
    "p"
   ]
  },
  {
   "cell_type": "markdown",
   "metadata": {},
   "source": [
    "2.7. Asignamos las etiquetas a cada observación y definimos nuestro dataset final sobre el que analizaremos los resultados"
   ]
  },
  {
   "cell_type": "code",
   "execution_count": 21,
   "metadata": {},
   "outputs": [
    {
     "data": {
      "text/html": [
       "<table>\n",
       "<caption>A data.frame: 6 × 11</caption>\n",
       "<thead>\n",
       "\t<tr><th></th><th scope=col>Cluster</th><th scope=col>Engagement_Alto</th><th scope=col>Article_Type_C</th><th scope=col>dominant_topic</th><th scope=col>topic_proba</th><th scope=col>text_len</th><th scope=col>hashtag_q</th><th scope=col>company_q</th><th scope=col>person_q</th><th scope=col>Comment_Ratio</th><th scope=col>Reaction_Ratio</th></tr>\n",
       "\t<tr><th></th><th scope=col>&lt;dbl&gt;</th><th scope=col>&lt;fct&gt;</th><th scope=col>&lt;fct&gt;</th><th scope=col>&lt;chr&gt;</th><th scope=col>&lt;dbl&gt;</th><th scope=col>&lt;int&gt;</th><th scope=col>&lt;int&gt;</th><th scope=col>&lt;int&gt;</th><th scope=col>&lt;int&gt;</th><th scope=col>&lt;dbl&gt;</th><th scope=col>&lt;dbl&gt;</th></tr>\n",
       "</thead>\n",
       "<tbody>\n",
       "\t<tr><th scope=row>1</th><td>1</td><td>0</td><td>0001</td><td>responsabilidad social</td><td>0.89</td><td>242</td><td>0</td><td>0</td><td>0</td><td> 9.531806</td><td>0.6076564</td></tr>\n",
       "\t<tr><th scope=row>2</th><td>1</td><td>0</td><td>0001</td><td>tendencias            </td><td>0.47</td><td> 98</td><td>0</td><td>0</td><td>1</td><td>24.639360</td><td>0.6745483</td></tr>\n",
       "\t<tr><th scope=row>3</th><td>1</td><td>0</td><td>0001</td><td>responsabilidad social</td><td>0.47</td><td>167</td><td>0</td><td>2</td><td>0</td><td>38.127222</td><td>0.7410776</td></tr>\n",
       "\t<tr><th scope=row>4</th><td>2</td><td>1</td><td>1001</td><td>responsabilidad social</td><td>0.47</td><td>167</td><td>0</td><td>2</td><td>0</td><td>41.866716</td><td>0.7272154</td></tr>\n",
       "\t<tr><th scope=row>5</th><td>3</td><td>0</td><td>1000</td><td>negocios              </td><td>0.51</td><td>400</td><td>4</td><td>1</td><td>1</td><td>41.866716</td><td>0.7272154</td></tr>\n",
       "\t<tr><th scope=row>6</th><td>3</td><td>0</td><td>1000</td><td>responsabilidad social</td><td>0.43</td><td>461</td><td>0</td><td>0</td><td>2</td><td>37.239721</td><td>0.7229839</td></tr>\n",
       "</tbody>\n",
       "</table>\n"
      ],
      "text/latex": [
       "A data.frame: 6 × 11\n",
       "\\begin{tabular}{r|lllllllllll}\n",
       "  & Cluster & Engagement\\_Alto & Article\\_Type\\_C & dominant\\_topic & topic\\_proba & text\\_len & hashtag\\_q & company\\_q & person\\_q & Comment\\_Ratio & Reaction\\_Ratio\\\\\n",
       "  & <dbl> & <fct> & <fct> & <chr> & <dbl> & <int> & <int> & <int> & <int> & <dbl> & <dbl>\\\\\n",
       "\\hline\n",
       "\t1 & 1 & 0 & 0001 & responsabilidad social & 0.89 & 242 & 0 & 0 & 0 &  9.531806 & 0.6076564\\\\\n",
       "\t2 & 1 & 0 & 0001 & tendencias             & 0.47 &  98 & 0 & 0 & 1 & 24.639360 & 0.6745483\\\\\n",
       "\t3 & 1 & 0 & 0001 & responsabilidad social & 0.47 & 167 & 0 & 2 & 0 & 38.127222 & 0.7410776\\\\\n",
       "\t4 & 2 & 1 & 1001 & responsabilidad social & 0.47 & 167 & 0 & 2 & 0 & 41.866716 & 0.7272154\\\\\n",
       "\t5 & 3 & 0 & 1000 & negocios               & 0.51 & 400 & 4 & 1 & 1 & 41.866716 & 0.7272154\\\\\n",
       "\t6 & 3 & 0 & 1000 & responsabilidad social & 0.43 & 461 & 0 & 0 & 2 & 37.239721 & 0.7229839\\\\\n",
       "\\end{tabular}\n"
      ],
      "text/markdown": [
       "\n",
       "A data.frame: 6 × 11\n",
       "\n",
       "| <!--/--> | Cluster &lt;dbl&gt; | Engagement_Alto &lt;fct&gt; | Article_Type_C &lt;fct&gt; | dominant_topic &lt;chr&gt; | topic_proba &lt;dbl&gt; | text_len &lt;int&gt; | hashtag_q &lt;int&gt; | company_q &lt;int&gt; | person_q &lt;int&gt; | Comment_Ratio &lt;dbl&gt; | Reaction_Ratio &lt;dbl&gt; |\n",
       "|---|---|---|---|---|---|---|---|---|---|---|---|\n",
       "| 1 | 1 | 0 | 0001 | responsabilidad social | 0.89 | 242 | 0 | 0 | 0 |  9.531806 | 0.6076564 |\n",
       "| 2 | 1 | 0 | 0001 | tendencias             | 0.47 |  98 | 0 | 0 | 1 | 24.639360 | 0.6745483 |\n",
       "| 3 | 1 | 0 | 0001 | responsabilidad social | 0.47 | 167 | 0 | 2 | 0 | 38.127222 | 0.7410776 |\n",
       "| 4 | 2 | 1 | 1001 | responsabilidad social | 0.47 | 167 | 0 | 2 | 0 | 41.866716 | 0.7272154 |\n",
       "| 5 | 3 | 0 | 1000 | negocios               | 0.51 | 400 | 4 | 1 | 1 | 41.866716 | 0.7272154 |\n",
       "| 6 | 3 | 0 | 1000 | responsabilidad social | 0.43 | 461 | 0 | 0 | 2 | 37.239721 | 0.7229839 |\n",
       "\n"
      ],
      "text/plain": [
       "  Cluster Engagement_Alto Article_Type_C dominant_topic         topic_proba\n",
       "1 1       0               0001           responsabilidad social 0.89       \n",
       "2 1       0               0001           tendencias             0.47       \n",
       "3 1       0               0001           responsabilidad social 0.47       \n",
       "4 2       1               1001           responsabilidad social 0.47       \n",
       "5 3       0               1000           negocios               0.51       \n",
       "6 3       0               1000           responsabilidad social 0.43       \n",
       "  text_len hashtag_q company_q person_q Comment_Ratio Reaction_Ratio\n",
       "1 242      0         0         0         9.531806     0.6076564     \n",
       "2  98      0         0         1        24.639360     0.6745483     \n",
       "3 167      0         2         0        38.127222     0.7410776     \n",
       "4 167      0         2         0        41.866716     0.7272154     \n",
       "5 400      4         1         1        41.866716     0.7272154     \n",
       "6 461      0         0         2        37.239721     0.7229839     "
      ]
     },
     "metadata": {},
     "output_type": "display_data"
    }
   ],
   "source": [
    "df['Cluster'] = clusters\n",
    "cols_final = c('Cluster','Engagement_Alto',\n",
    "               'Article_Type_C','dominant_topic',\n",
    "               'topic_proba','text_len','hashtag_q','company_q','person_q',\n",
    "               'Comment_Ratio','Reaction_Ratio')\n",
    "# Juntamos los 8 clusters en 2 metaclusters de 4 cada uno según engagement alto y bajo\n",
    "df$Engagement_Alto = factor(as.numeric((df$Cluster==2)|(df$Cluster==4)|(df$Cluster==7)|(df$Cluster==8)))\n",
    "head(df[,cols_final],6)"
   ]
  }
 ],
 "metadata": {
  "kernelspec": {
   "display_name": "R",
   "language": "R",
   "name": "ir"
  },
  "language_info": {
   "codemirror_mode": "r",
   "file_extension": ".r",
   "mimetype": "text/x-r-source",
   "name": "R",
   "pygments_lexer": "r",
   "version": "4.0.0"
  }
 },
 "nbformat": 4,
 "nbformat_minor": 4
}
